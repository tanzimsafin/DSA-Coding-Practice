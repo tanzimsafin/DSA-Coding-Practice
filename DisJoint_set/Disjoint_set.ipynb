{
 "cells": [
  {
   "cell_type": "code",
   "execution_count": 1,
   "metadata": {},
   "outputs": [
    {
     "data": {
      "text/plain": [
       "True"
      ]
     },
     "execution_count": 1,
     "metadata": {},
     "output_type": "execute_result"
    }
   ],
   "source": [
    "array=[None]*10\n",
    "def make():\n",
    "    for i in range(10):\n",
    "        array[i]=i\n",
    "    return array\n",
    "def find(x):\n",
    "    if array[x]==x:\n",
    "        return x\n",
    "    return find(array[x])\n",
    "def union(a,b):\n",
    "    x=find(a)\n",
    "    y=find(b)\n",
    "    if x==y:\n",
    "        return True\n",
    "    array[y]=x\n",
    "make()\n",
    "union(0,1)\n",
    "union(2,3)\n",
    "union(3,4)\n",
    "union(5,6)\n",
    "union(7,8)\n",
    "union(2,3)\n",
    "union(1,3)\n",
    "union(5,4)\n",
    "union(3,2)"
   ]
  }
 ],
 "metadata": {
  "kernelspec": {
   "display_name": "Python 3",
   "language": "python",
   "name": "python3"
  },
  "language_info": {
   "codemirror_mode": {
    "name": "ipython",
    "version": 3
   },
   "file_extension": ".py",
   "mimetype": "text/x-python",
   "name": "python",
   "nbconvert_exporter": "python",
   "pygments_lexer": "ipython3",
   "version": "3.11.1"
  },
  "orig_nbformat": 4
 },
 "nbformat": 4,
 "nbformat_minor": 2
}
